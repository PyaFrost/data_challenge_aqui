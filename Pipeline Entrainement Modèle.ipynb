{
 "cells": [
  {
   "cell_type": "markdown",
   "id": "97fb6cbf",
   "metadata": {},
   "source": [
    "# Pipeline entraînement du modèle"
   ]
  },
  {
   "cell_type": "code",
   "execution_count": 1,
   "id": "55b86346",
   "metadata": {},
   "outputs": [
    {
     "data": {
      "application/javascript": [
       "if (!(\"Notification\" in window)) {\n",
       "    alert(\"This browser does not support desktop notifications, so the %%notify magic will not work.\");\n",
       "} else if (Notification.permission !== 'granted' && Notification.permission !== 'denied') {\n",
       "    Notification.requestPermission(function (permission) {\n",
       "        if(!('permission' in Notification)) {\n",
       "            Notification.permission = permission;\n",
       "        }\n",
       "    })\n",
       "}\n"
      ],
      "text/plain": [
       "<IPython.core.display.Javascript object>"
      ]
     },
     "metadata": {},
     "output_type": "display_data"
    }
   ],
   "source": [
    "import sys\n",
    "import pandas as pd\n",
    "\n",
    "sys.path.append('Scripts')\n",
    "sys.path.append('Sources')\n",
    "\n",
    "import func as fc\n",
    "\n",
    "%load_ext autoreload\n",
    "%autoreload 2\n",
    "%load_ext jupyternotify"
   ]
  },
  {
   "cell_type": "code",
   "execution_count": 2,
   "id": "d2bb9ef2",
   "metadata": {},
   "outputs": [],
   "source": [
    "df_clt = pd.read_excel('Data/DATA CLIENT.xlsx', header=6).reset_index(drop=True)\n",
    "df_job = pd.read_excel('Data/DATA JOBEUR.xlsx', header=6).reset_index(drop=True)"
   ]
  },
  {
   "cell_type": "code",
   "execution_count": 3,
   "id": "b6150809",
   "metadata": {
    "scrolled": false
   },
   "outputs": [
    {
     "name": "stdout",
     "output_type": "stream",
     "text": [
      "------------------- NETTOYAGE COMPLET DES DONNEES -------------------\n",
      "\n",
      "Suppression des colonnes de la table client ... fini en 0.003s \n",
      "Suppression des lignes de la table client ... fini en 0.0s \n",
      "Suppression des colonnes de la table jobbeur ... fini en 0.001s \n",
      "Suppression des lignes de la table jobbeur ... fini en 0.0s \n",
      "Nettoyage des doublons dans les variables client et correction ... fini en 0.007s \n",
      "Nettoyage des doublons dans les variables jobbeur ... fini en 0.011s \n",
      "Complétion des données dans les variables jobbeur ... fini en 0.002s \n",
      "\n",
      "Opération complète terminée en 0.884s\n",
      "\n",
      "------------------- ADAPTATION POUR MODELISATION --------------------\n",
      "\n",
      "Merge des deux dataframes ... fini en 0.773s \n",
      "\n",
      "Labellisation des données :\n",
      "niveau de rémunération \u001b[1met\u001b[0m Niveau de rémunération mensuelle brute souhaitée\n",
      "Localisation du poste \u001b[1met\u001b[0m VILLE\n",
      "Dernier poste occupé (ou actuel) \u001b[1met\u001b[0m Métier du poste\n",
      "Mission recherchée : Exemple n°1 de poste (métier + secteur) \u001b[1met\u001b[0m Métier du poste\n",
      "Quelle taille d'entreprise / organisation TEXTE \u001b[1met\u001b[0m Taille entreprise\n",
      "Voitures \u001b[1met\u001b[0m Mobilité\n",
      "Permis B \u001b[1met\u001b[0m Mobilité\n",
      "Vos compétences 1 \u001b[1met\u001b[0m Comptétences pour le poste 1\n",
      "Vos compétences 2 \u001b[1met\u001b[0m Comptétences pour le poste 2\n",
      "Vos compétences 3 \u001b[1met\u001b[0m Comptétences pour le poste 3\n",
      "Quel type de contrat vous intéresse 2 \u001b[1met\u001b[0m Quels types de contrats pour les embauchés - TEXTE\n",
      "Quel type de contrat vous intéresse 3 \u001b[1met\u001b[0m Quels types de contrats pour les embauchés - TEXTE\n",
      "Vous souhaitez faire du télétravail (en % temps) \u001b[1met\u001b[0m Télétravail ( en %)\n",
      "Vous êtes prêt à faire des déplacements professionnels (en % temps) \u001b[1met\u001b[0m Poste avec du déplacement (en %) si 75 ramené a 100%\n",
      "Fini en 23.955s \n",
      "\n",
      "OneHotEncoding et Standardisation variable réponse :\n",
      "Encodage des colonnes ... fini en 94.07s \n",
      "Normalisation de la variable réponse ... fini en 0.052s \n",
      "\n",
      "Opération complète terminée en 119.462s\n",
      "\n",
      "---------------------- ENTRAINEMENT DU MODELE -----------------------\n",
      "\n",
      "Entraînement du modèle ... fini en 1749.716s \n",
      "\n",
      "R² obtenu : 0.98\n",
      "Modèle sauvegardé dans Sources/model.sav.\n",
      "\n",
      "Opération complète terminée en 1768.968s\n"
     ]
    },
    {
     "data": {
      "application/javascript": [
       "$(document).ready(\n",
       "    function() {\n",
       "        function appendUniqueDiv(){\n",
       "            // append a div with our uuid so we can check that it's already\n",
       "            // been sent and avoid duplicates on page reload\n",
       "            var notifiedDiv = document.createElement(\"div\")\n",
       "            notifiedDiv.id = \"12104a27-2a72-4353-8333-de12ff37721b\"\n",
       "            element.append(notifiedDiv)\n",
       "        }\n",
       "\n",
       "        // only send notifications if the pageload is complete; this will\n",
       "        // help stop extra notifications when a saved notebook is loaded,\n",
       "        // which during testing gives us state \"interactive\", not \"complete\"\n",
       "        if (document.readyState === 'complete') {\n",
       "            // check for the div that signifies that the notification\n",
       "            // was already sent\n",
       "            if (document.getElementById(\"12104a27-2a72-4353-8333-de12ff37721b\") === null) {\n",
       "                var notificationPayload = {\"requireInteraction\": false, \"icon\": \"/static/base/images/favicon.ico\", \"body\": \"Cell execution has finished!\"};\n",
       "                if (Notification.permission !== 'denied') {\n",
       "                    if (Notification.permission !== 'granted') { \n",
       "                        Notification.requestPermission(function (permission) {\n",
       "                            if(!('permission' in Notification)) {\n",
       "                                Notification.permission = permission\n",
       "                            }\n",
       "                        })\n",
       "                    }\n",
       "                    if (Notification.permission === 'granted') {\n",
       "                    var notification = new Notification(\"Jupyter Notebook\", notificationPayload)\n",
       "                    appendUniqueDiv()\n",
       "                    notification.onclick = function () {\n",
       "                        window.focus();\n",
       "                        this.close();\n",
       "                        };\n",
       "                    } \n",
       "                }     \n",
       "            }\n",
       "        }\n",
       "    }\n",
       ")\n"
      ],
      "text/plain": [
       "<IPython.core.display.Javascript object>"
      ]
     },
     "metadata": {},
     "output_type": "display_data"
    },
    {
     "name": "stdout",
     "output_type": "stream",
     "text": [
      "Wall time: 31min 29s\n"
     ]
    }
   ],
   "source": [
    "%%time\n",
    "%%notify -o\n",
    "\n",
    "model_trained, X, y = fc.pipeline_modelisation(df_clt, df_job, save_model=True)"
   ]
  }
 ],
 "metadata": {
  "kernelspec": {
   "display_name": "Python 3 (ipykernel)",
   "language": "python",
   "name": "python3"
  },
  "language_info": {
   "codemirror_mode": {
    "name": "ipython",
    "version": 3
   },
   "file_extension": ".py",
   "mimetype": "text/x-python",
   "name": "python",
   "nbconvert_exporter": "python",
   "pygments_lexer": "ipython3",
   "version": "3.9.7"
  }
 },
 "nbformat": 4,
 "nbformat_minor": 5
}
